{
 "cells": [
  {
   "cell_type": "code",
   "execution_count": 1,
   "metadata": {},
   "outputs": [],
   "source": [
    "## numpy repository의 PR 카테고리 분석. 각 카테고리별 Merge 율"
   ]
  },
  {
   "cell_type": "code",
   "execution_count": 2,
   "metadata": {},
   "outputs": [],
   "source": [
    "import requests\n",
    "import json"
   ]
  },
  {
   "cell_type": "code",
   "execution_count": 3,
   "metadata": {},
   "outputs": [],
   "source": [
    " # https://docs.github.com/en/free-pro-team@latest/rest/reference/pulls#list-pull-requests\n",
    "class PullRequests:\n",
    "    def __init__(self):\n",
    "        self.url = 'https://api.github.com/repos/numpy/numpy/pulls'\n",
    "        self.page_size = 100\n",
    "        self.result = list()\n",
    "    \n",
    "    def download(self, page):\n",
    "        headers = {'Accept': 'application/vnd.github.v3+json'}\n",
    "        params = {'state': 'closed', 'per_page': self.page_size, 'page': page}\n",
    "        response = requests.get(self.url, params=params, headers=headers)\n",
    "        if response.status_code != 200:\n",
    "            print('Can not download pull requests')\n",
    "            return None\n",
    "        else:\n",
    "            response.encoding = 'utf-8'\n",
    "            return response.text\n",
    "        \n",
    "    def __parse_category__(self, labels):\n",
    "        categories = list()\n",
    "        if labels is not None and len(labels) >= 1:\n",
    "            for label in labels:\n",
    "                categories.append(label['name'])\n",
    "        else:\n",
    "            return None\n",
    "        return categories\n",
    "        \n",
    "    def parse(self, response):\n",
    "        data_list = json.loads(response)\n",
    "        for data in data_list:\n",
    "            parsed_item = dict()\n",
    "            parsed_item['issue_number'] = data['number']\n",
    "            parsed_item['title'] = data['title']\n",
    "            parsed_item['category'] = self.__parse_category__(data['labels'])\n",
    "            parsed_item['is_merged'] = data['merged_at'] is not None\n",
    "            self.result.append(parsed_item)\n",
    "\n",
    "    def scraping(self):\n",
    "        self.result = list()\n",
    "        for page in range(1, 11):\n",
    "            response = self.download(page)\n",
    "            self.parse(response)"
   ]
  },
  {
   "cell_type": "code",
   "execution_count": 4,
   "metadata": {},
   "outputs": [],
   "source": [
    "numpy_pull_requests = PullRequests()"
   ]
  },
  {
   "cell_type": "code",
   "execution_count": 5,
   "metadata": {},
   "outputs": [],
   "source": [
    "numpy_pull_requests.scraping()"
   ]
  },
  {
   "cell_type": "code",
   "execution_count": 6,
   "metadata": {},
   "outputs": [
    {
     "data": {
      "text/plain": [
       "[{'issue_number': 17775,\n",
       "  'title': 'BUG: Fixed file handle leak in array_tofile.',\n",
       "  'category': ['00 - Bug', '08 - Backport', 'component: numpy.core'],\n",
       "  'is_merged': True},\n",
       " {'issue_number': 17774,\n",
       "  'title': \"BUG: fix np.timedelta64('nat').__format__ throwing an exception\",\n",
       "  'category': ['00 - Bug', '08 - Backport', 'component: numpy.core'],\n",
       "  'is_merged': True},\n",
       " {'issue_number': 17773,\n",
       "  'title': 'MAINT: Add BLD and STY to labeler prefixes.',\n",
       "  'category': ['03 - Maintenance'],\n",
       "  'is_merged': True}]"
      ]
     },
     "execution_count": 6,
     "metadata": {},
     "output_type": "execute_result"
    }
   ],
   "source": [
    "numpy_pull_requests.result[:3]"
   ]
  },
  {
   "cell_type": "code",
   "execution_count": 7,
   "metadata": {},
   "outputs": [],
   "source": [
    "# \"숫자 -\"로 구성된 카테고리 다듬기\n",
    "import re\n",
    "\n",
    "for item in numpy_pull_requests.result:\n",
    "    if item['category'] is None:\n",
    "        continue\n",
    "    new_categories = list()\n",
    "    for category in item['category']:\n",
    "        new_categories.append(re.sub(r'^[0-9]+\\s-\\s', '', category))\n",
    "    item['category'] = new_categories"
   ]
  },
  {
   "cell_type": "code",
   "execution_count": 8,
   "metadata": {},
   "outputs": [
    {
     "data": {
      "text/plain": [
       "[{'issue_number': 17775,\n",
       "  'title': 'BUG: Fixed file handle leak in array_tofile.',\n",
       "  'category': ['Bug', 'Backport', 'component: numpy.core'],\n",
       "  'is_merged': True},\n",
       " {'issue_number': 17774,\n",
       "  'title': \"BUG: fix np.timedelta64('nat').__format__ throwing an exception\",\n",
       "  'category': ['Bug', 'Backport', 'component: numpy.core'],\n",
       "  'is_merged': True},\n",
       " {'issue_number': 17773,\n",
       "  'title': 'MAINT: Add BLD and STY to labeler prefixes.',\n",
       "  'category': ['Maintenance'],\n",
       "  'is_merged': True}]"
      ]
     },
     "execution_count": 8,
     "metadata": {},
     "output_type": "execute_result"
    }
   ],
   "source": [
    "numpy_pull_requests.result[:3]"
   ]
  },
  {
   "cell_type": "code",
   "execution_count": 9,
   "metadata": {},
   "outputs": [],
   "source": [
    "# component category, static typing, Py3K, Backport 제거\n",
    "for item in numpy_pull_requests.result:\n",
    "    if item['category'] is None:\n",
    "        continue\n",
    "    new_categories = list()\n",
    "    for category in item['category']:\n",
    "        is_component_label = re.compile('^component:').search(category)\n",
    "        if is_component_label is not None:\n",
    "            continue\n",
    "        if category is 'static typing' or category is 'Py3K' or category is 'Backport':\n",
    "            continue\n",
    "        new_categories.append(category.strip())\n",
    "    item['category'] = new_categories\n"
   ]
  },
  {
   "cell_type": "code",
   "execution_count": 10,
   "metadata": {},
   "outputs": [
    {
     "data": {
      "text/plain": [
       "[{'issue_number': 17775,\n",
       "  'title': 'BUG: Fixed file handle leak in array_tofile.',\n",
       "  'category': ['Bug', 'Backport'],\n",
       "  'is_merged': True},\n",
       " {'issue_number': 17774,\n",
       "  'title': \"BUG: fix np.timedelta64('nat').__format__ throwing an exception\",\n",
       "  'category': ['Bug', 'Backport'],\n",
       "  'is_merged': True},\n",
       " {'issue_number': 17773,\n",
       "  'title': 'MAINT: Add BLD and STY to labeler prefixes.',\n",
       "  'category': ['Maintenance'],\n",
       "  'is_merged': True}]"
      ]
     },
     "execution_count": 10,
     "metadata": {},
     "output_type": "execute_result"
    }
   ],
   "source": [
    "numpy_pull_requests.result[:3]"
   ]
  },
  {
   "cell_type": "code",
   "execution_count": 11,
   "metadata": {},
   "outputs": [],
   "source": [
    "# pull_requests_with_category.csv 로 저장\n",
    "import os\n",
    "\n",
    "file_name = 'pull_requests_with_category.csv'\n",
    "file_path = './data/' + file_name\n",
    "os.remove(file_path)\n",
    "\n",
    "headers = ['issue_number', 'title', 'category', 'is_merged']\n",
    "\n",
    "new_file = open(file_path, 'w', encoding='utf-8')\n",
    "new_file.write(','.join(headers) + '\\n')\n",
    "\n",
    "for item in numpy_pull_requests.result:\n",
    "    for header in item:\n",
    "        line = str(item[header])\n",
    "        if type(item[header]) == list:\n",
    "            line = '' if item[header] is None else ','.join(item[header])\n",
    "        line = '\"' + line + '\"'\n",
    "        if header != headers[len(headers) - 1]:\n",
    "            line += ','\n",
    "        new_file.write(line)\n",
    "    new_file.write('\\n')\n",
    "\n",
    "new_file.close()"
   ]
  },
  {
   "cell_type": "code",
   "execution_count": 12,
   "metadata": {},
   "outputs": [
    {
     "data": {
      "text/plain": [
       "(1000, 4)"
      ]
     },
     "execution_count": 12,
     "metadata": {},
     "output_type": "execute_result"
    }
   ],
   "source": [
    "# 정상적으로 csv 파일이 만들어졌는지 확인\n",
    "import pandas as pd\n",
    "\n",
    "csv_numpy_pull_requests = pd.read_csv(file_path)\n",
    "\n",
    "csv_numpy_pull_requests.shape"
   ]
  },
  {
   "cell_type": "code",
   "execution_count": 14,
   "metadata": {},
   "outputs": [
    {
     "data": {
      "text/html": [
       "<div>\n",
       "<style scoped>\n",
       "    .dataframe tbody tr th:only-of-type {\n",
       "        vertical-align: middle;\n",
       "    }\n",
       "\n",
       "    .dataframe tbody tr th {\n",
       "        vertical-align: top;\n",
       "    }\n",
       "\n",
       "    .dataframe thead th {\n",
       "        text-align: right;\n",
       "    }\n",
       "</style>\n",
       "<table border=\"1\" class=\"dataframe\">\n",
       "  <thead>\n",
       "    <tr style=\"text-align: right;\">\n",
       "      <th></th>\n",
       "      <th>issue_number</th>\n",
       "      <th>title</th>\n",
       "      <th>category</th>\n",
       "      <th>is_merged</th>\n",
       "    </tr>\n",
       "  </thead>\n",
       "  <tbody>\n",
       "    <tr>\n",
       "      <th>0</th>\n",
       "      <td>17775</td>\n",
       "      <td>BUG: Fixed file handle leak in array_tofile.</td>\n",
       "      <td>Bug,Backport</td>\n",
       "      <td>True</td>\n",
       "    </tr>\n",
       "    <tr>\n",
       "      <th>1</th>\n",
       "      <td>17774</td>\n",
       "      <td>BUG: fix np.timedelta64('nat').__format__ thro...</td>\n",
       "      <td>Bug,Backport</td>\n",
       "      <td>True</td>\n",
       "    </tr>\n",
       "    <tr>\n",
       "      <th>2</th>\n",
       "      <td>17773</td>\n",
       "      <td>MAINT: Add BLD and STY to labeler prefixes.</td>\n",
       "      <td>Maintenance</td>\n",
       "      <td>True</td>\n",
       "    </tr>\n",
       "    <tr>\n",
       "      <th>3</th>\n",
       "      <td>17768</td>\n",
       "      <td>MAINT: update link to website in FUNDING.yml</td>\n",
       "      <td>Maintenance</td>\n",
       "      <td>True</td>\n",
       "    </tr>\n",
       "    <tr>\n",
       "      <th>4</th>\n",
       "      <td>17763</td>\n",
       "      <td>SIMD, BUG: fix reuses the previous values duri...</td>\n",
       "      <td>Bug</td>\n",
       "      <td>True</td>\n",
       "    </tr>\n",
       "  </tbody>\n",
       "</table>\n",
       "</div>"
      ],
      "text/plain": [
       "   issue_number                                              title  \\\n",
       "0         17775       BUG: Fixed file handle leak in array_tofile.   \n",
       "1         17774  BUG: fix np.timedelta64('nat').__format__ thro...   \n",
       "2         17773        MAINT: Add BLD and STY to labeler prefixes.   \n",
       "3         17768       MAINT: update link to website in FUNDING.yml   \n",
       "4         17763  SIMD, BUG: fix reuses the previous values duri...   \n",
       "\n",
       "       category  is_merged  \n",
       "0  Bug,Backport       True  \n",
       "1  Bug,Backport       True  \n",
       "2   Maintenance       True  \n",
       "3   Maintenance       True  \n",
       "4           Bug       True  "
      ]
     },
     "execution_count": 14,
     "metadata": {},
     "output_type": "execute_result"
    }
   ],
   "source": [
    "csv_numpy_pull_requests.head()"
   ]
  }
 ],
 "metadata": {
  "kernelspec": {
   "display_name": "Python 3",
   "language": "python",
   "name": "python3"
  },
  "language_info": {
   "codemirror_mode": {
    "name": "ipython",
    "version": 3
   },
   "file_extension": ".py",
   "mimetype": "text/x-python",
   "name": "python",
   "nbconvert_exporter": "python",
   "pygments_lexer": "ipython3",
   "version": "3.7.5"
  }
 },
 "nbformat": 4,
 "nbformat_minor": 4
}
