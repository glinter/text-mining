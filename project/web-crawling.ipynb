{
 "cells": [
  {
   "cell_type": "markdown",
   "metadata": {},
   "source": [
    "# Crawling 크롤링"
   ]
  },
  {
   "cell_type": "code",
   "execution_count": 1,
   "metadata": {},
   "outputs": [],
   "source": [
    "# 웹 사이트로부터 데이터를 얻어오는 클래스\n",
    "import requests\n",
    "import json\n",
    "\n",
    "class Requester:\n",
    "    def get_data(self, url, parameters = {}):\n",
    "        if (url is None) or (url.strip() is ''):\n",
    "            raise Exception('url should not be empty')\n",
    "        \n",
    "        response = requests.get(url.strip(), params = parameters)\n",
    "        if response.status_code is not 200:\n",
    "            raise Exception('Can not receive response')\n",
    "\n",
    "        json_response = json.loads(response.text)\n",
    "        return json_response"
   ]
  },
  {
   "cell_type": "markdown",
   "metadata": {},
   "source": [
    "## '카테고리 목록'을 크롤링하는 클래스"
   ]
  },
  {
   "cell_type": "code",
   "execution_count": 2,
   "metadata": {},
   "outputs": [],
   "source": [
    "# 홈페이지 주소: https://ohou.se/store/category?category=0_1_0_7\n",
    "class CategoryCrawler:\n",
    "    def __init__(self):\n",
    "        self.categories = list()\n",
    "        self.requester = Requester()\n",
    "    \n",
    "    def collect_all_sub_categories(self, sub_categories):\n",
    "        if (sub_categories is None) or (len(sub_categories) <= 0):\n",
    "            return []\n",
    "        \n",
    "        collected_sub_categories = list()\n",
    "        for inner_sub_category in sub_categories:\n",
    "            if (inner_sub_category['child'] is None) or (len(inner_sub_category['child']) <= 0):\n",
    "                collected_sub_categories.append({\n",
    "                    'category_name': inner_sub_category['title'].strip(),\n",
    "                    'category_key': inner_sub_category['hash'].strip()\n",
    "                })\n",
    "                continue\n",
    "            found_sub_categories = self.collect_all_sub_categories(inner_sub_category['child'])\n",
    "            collected_sub_categories = collected_sub_categories + found_sub_categories\n",
    "            \n",
    "        return collected_sub_categories\n",
    "    \n",
    "    def collect(self):\n",
    "        parameters = {'used': str(2), 'include_html': 'true'}\n",
    "        url = 'https://ohou.se/productions/categories.json'\n",
    "        response = self.requester.get_data(url, parameters)\n",
    "        \n",
    "        self.categories = list()\n",
    "        for category in response['categories']:\n",
    "            item = {\n",
    "                'category_name': category['title'].strip(),\n",
    "                'category_key': category['hash'].strip(),\n",
    "                'sub_categories': [],\n",
    "            }\n",
    "            item['sub_categories'] = self.collect_all_sub_categories(category['child'])\n",
    "            self.categories.append(item)"
   ]
  },
  {
   "cell_type": "code",
   "execution_count": 3,
   "metadata": {},
   "outputs": [
    {
     "name": "stdout",
     "output_type": "stream",
     "text": [
      "> Total main category count: 12\n",
      "> \"수납/정리\"'s sub categories: [{'category_name': '플라스틱서랍장', 'category_key': '11_0_0'}, {'category_name': '이동식정리함/트롤리', 'category_key': '11_0_2'}, {'category_name': '공간박스', 'category_key': '11_0_3'}, {'category_name': '리빙박스', 'category_key': '11_1_0'}, {'category_name': '수납정리함', 'category_key': '11_1_1'}, {'category_name': '기타수납/정리용품', 'category_key': '11_1_2'}, {'category_name': '수납바스켓', 'category_key': '11_2_0'}, {'category_name': '라탄바스켓', 'category_key': '11_2_1'}, {'category_name': '빨래바구니/보관함', 'category_key': '11_2_2'}, {'category_name': '소품트레이', 'category_key': '11_2_3'}, {'category_name': '스탠드행거', 'category_key': '11_3_0'}, {'category_name': '이동식행거', 'category_key': '11_3_1'}, {'category_name': '고정식행거', 'category_key': '11_3_2'}, {'category_name': '벽선반', 'category_key': '11_4_0'}, {'category_name': '스탠드선반', 'category_key': '11_4_1'}, {'category_name': '세탁기선반', 'category_key': '11_4_2'}, {'category_name': '옷걸이/바지걸이', 'category_key': '11_5_0'}, {'category_name': '서랍칸막이/수납함', 'category_key': '11_5_1'}, {'category_name': '속옷정리함', 'category_key': '11_5_2'}, {'category_name': '옷커버/압축팩', 'category_key': '11_5_3'}, {'category_name': '후크/수납걸이', 'category_key': '11_5_4'}, {'category_name': '화장품정리용품', 'category_key': '11_6_0'}, {'category_name': '쥬얼리정리용품', 'category_key': '11_6_1'}, {'category_name': '소품정리/거치대', 'category_key': '11_6_3'}, {'category_name': '신발장/정리대', 'category_key': '11_7_0'}, {'category_name': '신발수납함/슈즈렉', 'category_key': '11_7_1'}, {'category_name': '우산꽂이', 'category_key': '11_7_2'}, {'category_name': '실내화거치대', 'category_key': '11_7_3'}]\n"
     ]
    }
   ],
   "source": [
    "category_crawler = CategoryCrawler()\n",
    "category_crawler.collect()\n",
    "\n",
    "print('> Total main category count:', len(category_crawler.categories))\n",
    "print('> \"{}\"\\'s sub categories: {}'.format(\n",
    "    category_crawler.categories[4]['category_name'],\n",
    "    category_crawler.categories[4]['sub_categories']\n",
    "))"
   ]
  },
  {
   "cell_type": "markdown",
   "metadata": {},
   "source": [
    "## '카테고리별' 모든 '상품' 및 관련된 '리뷰텍스트 등'을 크롤링하는 클래스"
   ]
  },
  {
   "cell_type": "code",
   "execution_count": 14,
   "metadata": {},
   "outputs": [],
   "source": [
    "class ProductCrawler:\n",
    "    def __init__(self, categories = []):\n",
    "        self.products = list()\n",
    "        self.categories = categories\n",
    "        self.requester = Requester()\n",
    "        self.default_page_size = 1000 # 1페이지에 출력될 아이템 갯수\n",
    "\n",
    "    def calculat_total_page(self, total_item_count):\n",
    "        if (total_item_count is None) or (total_item_count <= 0):\n",
    "            return 1\n",
    "        total_page = (total_item_count // self.default_page_size)\n",
    "        if (total_item_count % self.default_page_size) is not 0:\n",
    "            total_page = total_page + 1\n",
    "        return total_page\n",
    "    \n",
    "    def get_production_data_by_page(self, category_key, page):\n",
    "        parameters = {\n",
    "             'v': str(2), # 고정 queryParam 값. v인걸 보아 API 버전 정보인듯?\n",
    "             'per': str(self.default_page_size), # 고정 queryParam 값. 페이에 출력될 아이템 갯수\n",
    "             'category': category_key,\n",
    "             'page': str(page)\n",
    "        }\n",
    "        url = 'https://ohou.se/store/category.json'\n",
    "        response = self.requester.get_data(url, parameters)\n",
    "        return response\n",
    "    \n",
    "    def collect_productions(self, productions = []):\n",
    "        for production in productions:\n",
    "            self.products.append({\n",
    "                'id': production['id'],\n",
    "                'name': production['name'],\n",
    "                'review_count': production['review_count'], #  제품에 남겨진 리뷰 총 갯수\n",
    "                'review_average': production['review_avg'],  # 제품에 남겨진 평점 평균\n",
    "                'scrap_count': production['scrap_count'],  # 제품을 스크랩한 총 갯수\n",
    "                'view_count': production['view_count'],  # 제품을 본 횟수\n",
    "                #'review_text': '' # TODO\n",
    "            })\n",
    "        \n",
    "    def collect(self):\n",
    "        self.products = list()\n",
    "        if (self.categories is None) or (len(self.categories) <= 0):\n",
    "            return\n",
    "        \n",
    "        for category in self.categories:\n",
    "            category_keys = [sub['category_key'] for sub in category['sub_categories']]\n",
    "            for category_key in category_keys:\n",
    "                print('> Start to collect productions. category_key:', category_key)\n",
    "                current_page = 1\n",
    "                response = self.get_production_data_by_page(category_key, current_page)\n",
    "                self.collect_productions(response['productions'])\n",
    "                \n",
    "                total_page = self.calculat_total_page(response['item_count']) # item_count: 현재 카테고리의 모든 제품 갯수\n",
    "                print('>> This category_key has total_page:', total_page)\n",
    "                if current_page is total_page:\n",
    "                    break\n",
    "                else:\n",
    "                    while (current_page <= total_page):\n",
    "                        current_page = current_page + 1\n",
    "                        print('>> Collect proudctions at page:', current_page)\n",
    "                        response = self.get_production_data_by_page(category_key, current_page)\n",
    "                        self.collect_productions(response['productions'])\n",
    "                "
   ]
  },
  {
   "cell_type": "code",
   "execution_count": 15,
   "metadata": {},
   "outputs": [
    {
     "name": "stdout",
     "output_type": "stream",
     "text": [
      "> Start to collect productions. category_key: 0_1_0_3\n",
      ">> This category_key has total_page: 5\n",
      ">> Collect proudctions at page: 2\n",
      ">> Collect proudctions at page: 3\n",
      ">> Collect proudctions at page: 4\n",
      ">> Collect proudctions at page: 5\n",
      ">> Collect proudctions at page: 6\n",
      "> Start to collect productions. category_key: 0_1_0_4\n",
      ">> This category_key has total_page: 1\n",
      "> Start to collect productions. category_key: 1_0_20\n",
      ">> This category_key has total_page: 4\n",
      ">> Collect proudctions at page: 2\n",
      ">> Collect proudctions at page: 3\n",
      ">> Collect proudctions at page: 4\n",
      ">> Collect proudctions at page: 5\n",
      "> Start to collect productions. category_key: 1_0_1\n",
      ">> This category_key has total_page: 4\n",
      ">> Collect proudctions at page: 2\n",
      ">> Collect proudctions at page: 3\n",
      ">> Collect proudctions at page: 4\n",
      ">> Collect proudctions at page: 5\n",
      "> Start to collect productions. category_key: 1_0_0\n",
      ">> This category_key has total_page: 2\n",
      ">> Collect proudctions at page: 2\n",
      ">> Collect proudctions at page: 3\n",
      "> Start to collect productions. category_key: 1_0_4_0\n",
      ">> This category_key has total_page: 1\n",
      "> Start to collect productions. category_key: 2_6_0_0\n",
      ">> This category_key has total_page: 1\n",
      "> Start to collect productions. category_key: 3_0_6\n",
      ">> This category_key has total_page: 1\n",
      "> Start to collect productions. category_key: 11_0_0\n",
      ">> This category_key has total_page: 1\n",
      "> Start to collect productions. category_key: 4_2_1\n",
      ">> This category_key has total_page: 1\n",
      "> Start to collect productions. category_key: 5_0_0_0\n",
      ">> This category_key has total_page: 1\n",
      "> Start to collect productions. category_key: 6_1\n",
      ">> This category_key has total_page: 1\n",
      "> Start to collect productions. category_key: 7_20_22\n",
      ">> This category_key has total_page: 1\n",
      "> Start to collect productions. category_key: 8_20_20\n",
      ">> This category_key has total_page: 1\n",
      "> Start to collect productions. category_key: 20_20\n",
      ">> This category_key has total_page: 1\n",
      "> Start to collect productions. category_key: 21_20_20\n",
      ">> This category_key has total_page: 1\n"
     ]
    }
   ],
   "source": [
    "product_crawler = ProductCrawler(categories = category_crawler.categories)\n",
    "product_crawler.collect()"
   ]
  },
  {
   "cell_type": "code",
   "execution_count": 11,
   "metadata": {},
   "outputs": [
    {
     "name": "stdout",
     "output_type": "stream",
     "text": [
      "Total product count: 18472\n",
      "{'type': 'Production', 'id': 267218, 'name': '[쿠폰할인] DK053 3인용 풀커버 그레이 발수 패브릭 소파 (스툴 기본포함)', 'review_avg': 4.64, 'review_count': 1879, 'scrap_count': 30426, 'view_count': 437807, 'used_card_count': 1715, 'selling_price': 264000, 'original_price': 335000, 'original_image_url': 'https://bucketplace-v2-development.s3.amazonaws.com/uploads/productions/158563416665392402.jpg', 'resized_image_url': 'https://image.ohou.se/image/central_crop/bucketplace-v2-development/uploads-productions-158563416665392402.jpg/640/640', 'status': 4, 'week_rank': 0, 'delivery_type': 2, 'user_id': 7631246, 'brand': {'id': 6801, 'name': '듀커소파'}, 'is_cheapest_price': False, 'is_special_price': True, 'is_hidden': False, 'is_delivery_date_specified': False, 'is_selling': True, 'is_sold_out': False, 'is_scrap': False, 'is_free_delivery': False, 'is_discontinued': False, 'is_overseas_purchase': False, 'is_buyable': True, 'is_consultable': False, 'is_remodel': False, 'is_discounted': False, 'brand_id': 6801, 'brand_name': '듀커소파', 'raw_image_url': 'https://bucketplace-v2-development.s3.amazonaws.com/uploads/productions/158563416665392402.jpg', 'image_url': 'https://image.ohou.se/image/central_crop/bucketplace-v2-development/uploads-productions-158563416665392402.jpg/640/640', 'wish_count': 30426, 'selling_cost': 264000, 'cost': 335000, 'selling': True, 'sold_out': False, 'lowest_guarantee': False, 'is_wish': False, 'free_delivery': False}\n"
     ]
    }
   ],
   "source": [
    "print('Total product count:', len(product_crawler.products))\n",
    "print(product_crawler.products[0])"
   ]
  },
  {
   "cell_type": "markdown",
   "metadata": {},
   "source": [
    "## 'Product에 남겨진 리뷰텍스트'를 크롤링하는 클래스"
   ]
  },
  {
   "cell_type": "code",
   "execution_count": null,
   "metadata": {},
   "outputs": [],
   "source": [
    "# https://ohou.se/production_reviews.json?production_id=81625&page=2&order=best&photo_review_only=\n",
    "class ProdcutReviewCrawler:"
   ]
  },
  {
   "cell_type": "markdown",
   "metadata": {},
   "source": [
    "# `input/data.csv` 생성"
   ]
  }
 ],
 "metadata": {
  "kernelspec": {
   "display_name": "Python 3",
   "language": "python",
   "name": "python3"
  },
  "language_info": {
   "codemirror_mode": {
    "name": "ipython",
    "version": 3
   },
   "file_extension": ".py",
   "mimetype": "text/x-python",
   "name": "python",
   "nbconvert_exporter": "python",
   "pygments_lexer": "ipython3",
   "version": "3.7.5"
  }
 },
 "nbformat": 4,
 "nbformat_minor": 4
}
