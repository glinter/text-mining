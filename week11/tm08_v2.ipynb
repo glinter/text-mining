{
 "cells": [
  {
   "cell_type": "code",
   "execution_count": 1,
   "metadata": {},
   "outputs": [],
   "source": [
    "# code from http://www.davidsbatista.net/blog/2017/04/01/document_classification/\n",
    "%matplotlib inline\n",
    "\n",
    "import matplotlib\n",
    "import numpy as np\n",
    "import matplotlib.pyplot as plt\n",
    "import pandas as pd\n",
    "import string\n",
    "from nltk.corpus import stopwords\n",
    "from sklearn.feature_extraction.text import CountVectorizer"
   ]
  },
  {
   "cell_type": "code",
   "execution_count": 2,
   "metadata": {},
   "outputs": [],
   "source": [
    "df = pd.read_csv(\"data/movies_genres.csv\", delimiter='\\t')"
   ]
  },
  {
   "cell_type": "code",
   "execution_count": 3,
   "metadata": {},
   "outputs": [
    {
     "name": "stdout",
     "output_type": "stream",
     "text": [
      "<class 'pandas.core.frame.DataFrame'>\n",
      "RangeIndex: 117352 entries, 0 to 117351\n",
      "Data columns (total 30 columns):\n",
      " #   Column       Non-Null Count   Dtype \n",
      "---  ------       --------------   ----- \n",
      " 0   title        117352 non-null  object\n",
      " 1   plot         117352 non-null  object\n",
      " 2   Action       117352 non-null  int64 \n",
      " 3   Adult        117352 non-null  int64 \n",
      " 4   Adventure    117352 non-null  int64 \n",
      " 5   Animation    117352 non-null  int64 \n",
      " 6   Biography    117352 non-null  int64 \n",
      " 7   Comedy       117352 non-null  int64 \n",
      " 8   Crime        117352 non-null  int64 \n",
      " 9   Documentary  117352 non-null  int64 \n",
      " 10  Drama        117352 non-null  int64 \n",
      " 11  Family       117352 non-null  int64 \n",
      " 12  Fantasy      117352 non-null  int64 \n",
      " 13  Game-Show    117352 non-null  int64 \n",
      " 14  History      117352 non-null  int64 \n",
      " 15  Horror       117352 non-null  int64 \n",
      " 16  Lifestyle    117352 non-null  int64 \n",
      " 17  Music        117352 non-null  int64 \n",
      " 18  Musical      117352 non-null  int64 \n",
      " 19  Mystery      117352 non-null  int64 \n",
      " 20  News         117352 non-null  int64 \n",
      " 21  Reality-TV   117352 non-null  int64 \n",
      " 22  Romance      117352 non-null  int64 \n",
      " 23  Sci-Fi       117352 non-null  int64 \n",
      " 24  Short        117352 non-null  int64 \n",
      " 25  Sport        117352 non-null  int64 \n",
      " 26  Talk-Show    117352 non-null  int64 \n",
      " 27  Thriller     117352 non-null  int64 \n",
      " 28  War          117352 non-null  int64 \n",
      " 29  Western      117352 non-null  int64 \n",
      "dtypes: int64(28), object(2)\n",
      "memory usage: 26.9+ MB\n"
     ]
    }
   ],
   "source": [
    "df.info()"
   ]
  },
  {
   "cell_type": "code",
   "execution_count": 4,
   "metadata": {},
   "outputs": [
    {
     "data": {
      "text/html": [
       "<div>\n",
       "<style scoped>\n",
       "    .dataframe tbody tr th:only-of-type {\n",
       "        vertical-align: middle;\n",
       "    }\n",
       "\n",
       "    .dataframe tbody tr th {\n",
       "        vertical-align: top;\n",
       "    }\n",
       "\n",
       "    .dataframe thead th {\n",
       "        text-align: right;\n",
       "    }\n",
       "</style>\n",
       "<table border=\"1\" class=\"dataframe\">\n",
       "  <thead>\n",
       "    <tr style=\"text-align: right;\">\n",
       "      <th></th>\n",
       "      <th>title</th>\n",
       "      <th>plot</th>\n",
       "      <th>Action</th>\n",
       "      <th>Adult</th>\n",
       "      <th>Adventure</th>\n",
       "      <th>Animation</th>\n",
       "      <th>Biography</th>\n",
       "      <th>Comedy</th>\n",
       "      <th>Crime</th>\n",
       "      <th>Documentary</th>\n",
       "      <th>...</th>\n",
       "      <th>News</th>\n",
       "      <th>Reality-TV</th>\n",
       "      <th>Romance</th>\n",
       "      <th>Sci-Fi</th>\n",
       "      <th>Short</th>\n",
       "      <th>Sport</th>\n",
       "      <th>Talk-Show</th>\n",
       "      <th>Thriller</th>\n",
       "      <th>War</th>\n",
       "      <th>Western</th>\n",
       "    </tr>\n",
       "  </thead>\n",
       "  <tbody>\n",
       "    <tr>\n",
       "      <th>0</th>\n",
       "      <td>\"#7DaysLater\" (2013)</td>\n",
       "      <td>#7dayslater is an interactive comedy series f...</td>\n",
       "      <td>0</td>\n",
       "      <td>0</td>\n",
       "      <td>0</td>\n",
       "      <td>0</td>\n",
       "      <td>0</td>\n",
       "      <td>1</td>\n",
       "      <td>0</td>\n",
       "      <td>0</td>\n",
       "      <td>...</td>\n",
       "      <td>0</td>\n",
       "      <td>0</td>\n",
       "      <td>0</td>\n",
       "      <td>0</td>\n",
       "      <td>0</td>\n",
       "      <td>0</td>\n",
       "      <td>0</td>\n",
       "      <td>0</td>\n",
       "      <td>0</td>\n",
       "      <td>0</td>\n",
       "    </tr>\n",
       "    <tr>\n",
       "      <th>1</th>\n",
       "      <td>\"#BlackLove\" (2015) {Crash the Party (#1.9)}</td>\n",
       "      <td>With just one week left in the workshops, the...</td>\n",
       "      <td>0</td>\n",
       "      <td>0</td>\n",
       "      <td>0</td>\n",
       "      <td>0</td>\n",
       "      <td>0</td>\n",
       "      <td>0</td>\n",
       "      <td>0</td>\n",
       "      <td>0</td>\n",
       "      <td>...</td>\n",
       "      <td>0</td>\n",
       "      <td>1</td>\n",
       "      <td>0</td>\n",
       "      <td>0</td>\n",
       "      <td>0</td>\n",
       "      <td>0</td>\n",
       "      <td>0</td>\n",
       "      <td>0</td>\n",
       "      <td>0</td>\n",
       "      <td>0</td>\n",
       "    </tr>\n",
       "    <tr>\n",
       "      <th>2</th>\n",
       "      <td>\"#BlackLove\" (2015) {Making Lemonade Out of Le...</td>\n",
       "      <td>All of the women start making strides towards...</td>\n",
       "      <td>0</td>\n",
       "      <td>0</td>\n",
       "      <td>0</td>\n",
       "      <td>0</td>\n",
       "      <td>0</td>\n",
       "      <td>0</td>\n",
       "      <td>0</td>\n",
       "      <td>0</td>\n",
       "      <td>...</td>\n",
       "      <td>0</td>\n",
       "      <td>1</td>\n",
       "      <td>0</td>\n",
       "      <td>0</td>\n",
       "      <td>0</td>\n",
       "      <td>0</td>\n",
       "      <td>0</td>\n",
       "      <td>0</td>\n",
       "      <td>0</td>\n",
       "      <td>0</td>\n",
       "    </tr>\n",
       "    <tr>\n",
       "      <th>3</th>\n",
       "      <td>\"#BlackLove\" (2015) {Miss Independent (#1.5)}</td>\n",
       "      <td>All five of these women are independent and s...</td>\n",
       "      <td>0</td>\n",
       "      <td>0</td>\n",
       "      <td>0</td>\n",
       "      <td>0</td>\n",
       "      <td>0</td>\n",
       "      <td>0</td>\n",
       "      <td>0</td>\n",
       "      <td>0</td>\n",
       "      <td>...</td>\n",
       "      <td>0</td>\n",
       "      <td>1</td>\n",
       "      <td>0</td>\n",
       "      <td>0</td>\n",
       "      <td>0</td>\n",
       "      <td>0</td>\n",
       "      <td>0</td>\n",
       "      <td>0</td>\n",
       "      <td>0</td>\n",
       "      <td>0</td>\n",
       "    </tr>\n",
       "    <tr>\n",
       "      <th>4</th>\n",
       "      <td>\"#BlackLove\" (2015) {Sealing the Deal (#1.10)}</td>\n",
       "      <td>Despite having gone through a life changing p...</td>\n",
       "      <td>0</td>\n",
       "      <td>0</td>\n",
       "      <td>0</td>\n",
       "      <td>0</td>\n",
       "      <td>0</td>\n",
       "      <td>0</td>\n",
       "      <td>0</td>\n",
       "      <td>0</td>\n",
       "      <td>...</td>\n",
       "      <td>0</td>\n",
       "      <td>1</td>\n",
       "      <td>0</td>\n",
       "      <td>0</td>\n",
       "      <td>0</td>\n",
       "      <td>0</td>\n",
       "      <td>0</td>\n",
       "      <td>0</td>\n",
       "      <td>0</td>\n",
       "      <td>0</td>\n",
       "    </tr>\n",
       "  </tbody>\n",
       "</table>\n",
       "<p>5 rows × 30 columns</p>\n",
       "</div>"
      ],
      "text/plain": [
       "                                               title  \\\n",
       "0                               \"#7DaysLater\" (2013)   \n",
       "1       \"#BlackLove\" (2015) {Crash the Party (#1.9)}   \n",
       "2  \"#BlackLove\" (2015) {Making Lemonade Out of Le...   \n",
       "3      \"#BlackLove\" (2015) {Miss Independent (#1.5)}   \n",
       "4     \"#BlackLove\" (2015) {Sealing the Deal (#1.10)}   \n",
       "\n",
       "                                                plot  Action  Adult  \\\n",
       "0   #7dayslater is an interactive comedy series f...       0      0   \n",
       "1   With just one week left in the workshops, the...       0      0   \n",
       "2   All of the women start making strides towards...       0      0   \n",
       "3   All five of these women are independent and s...       0      0   \n",
       "4   Despite having gone through a life changing p...       0      0   \n",
       "\n",
       "   Adventure  Animation  Biography  Comedy  Crime  Documentary  ...  News  \\\n",
       "0          0          0          0       1      0            0  ...     0   \n",
       "1          0          0          0       0      0            0  ...     0   \n",
       "2          0          0          0       0      0            0  ...     0   \n",
       "3          0          0          0       0      0            0  ...     0   \n",
       "4          0          0          0       0      0            0  ...     0   \n",
       "\n",
       "   Reality-TV  Romance  Sci-Fi  Short  Sport  Talk-Show  Thriller  War  \\\n",
       "0           0        0       0      0      0          0         0    0   \n",
       "1           1        0       0      0      0          0         0    0   \n",
       "2           1        0       0      0      0          0         0    0   \n",
       "3           1        0       0      0      0          0         0    0   \n",
       "4           1        0       0      0      0          0         0    0   \n",
       "\n",
       "   Western  \n",
       "0        0  \n",
       "1        0  \n",
       "2        0  \n",
       "3        0  \n",
       "4        0  \n",
       "\n",
       "[5 rows x 30 columns]"
      ]
     },
     "execution_count": 4,
     "metadata": {},
     "output_type": "execute_result"
    }
   ],
   "source": [
    "df.head()"
   ]
  },
  {
   "cell_type": "code",
   "execution_count": 5,
   "metadata": {},
   "outputs": [
    {
     "data": {
      "text/plain": [
       "117352"
      ]
     },
     "execution_count": 5,
     "metadata": {},
     "output_type": "execute_result"
    }
   ],
   "source": [
    "len(df)"
   ]
  },
  {
   "cell_type": "code",
   "execution_count": 6,
   "metadata": {},
   "outputs": [
    {
     "data": {
      "text/plain": [
       "[\" #7dayslater is an interactive comedy series featuring an ensemble cast of YouTube celebrities. Each week the audience writes the brief via social media for an all-new episode featuring a well-known guest-star. Seven days later that week's episode premieres on TV and across multiple platforms.\",\n",
       " ' With just one week left in the workshops, the women consider the idea of \"The One.\" The ladies are stunned when Jahmil finally comes to a decision about Bentley and if he\\'s the one for her. Jack challenges Tennesha to express her feelings of love towards Errol, but can she put herself out there and face possible rejection?',\n",
       " \" All of the women start making strides towards finding their own version of a happy ending. Tennesha and Errol decide to become exclusive, but Laree just isn't ready to tell Karl she loves him, even though he has expressed that sentiment to her. Cynthia finds it hard to venture out on her own after her tumultuous separation, and Monet finally finds peace in her divorce when she decides to throw a 'freedom' party to celebrate!\",\n",
       " \" All five of these women are independent and strong willed, and because of this, they've faced strife in their relationships, past and present. On Jamil's second date with Nneka, Nneka shares that she wants a committed relationship, leaving Jahmil in a difficult position. Jack drops a bomb on Monet in their one on one, which makes her realize that she has been looking at her dating life all wrong. Tennesha is ready to introduce the ladies to Errol at her housewarming party, but her nervousness leads to her controlling nature coming out again. Can she reign it in before she drives Errol away?\",\n",
       " ' Despite having gone through a life changing process in the past ten weeks, the women still have issues to resolve before the week is up in order for them to get their love lives in check. Monet realizes she has one final piece to let go of.']"
      ]
     },
     "execution_count": 6,
     "metadata": {},
     "output_type": "execute_result"
    }
   ],
   "source": [
    "list(df[\"plot\"][:5])"
   ]
  },
  {
   "cell_type": "code",
   "execution_count": 7,
   "metadata": {},
   "outputs": [
    {
     "name": "stdout",
     "output_type": "stream",
     "text": [
      "<class 'pandas.core.frame.DataFrame'>\n",
      "RangeIndex: 3912 entries, 0 to 117330\n",
      "Data columns (total 30 columns):\n",
      " #   Column       Non-Null Count  Dtype \n",
      "---  ------       --------------  ----- \n",
      " 0   title        3912 non-null   object\n",
      " 1   plot         3912 non-null   object\n",
      " 2   Action       3912 non-null   int64 \n",
      " 3   Adult        3912 non-null   int64 \n",
      " 4   Adventure    3912 non-null   int64 \n",
      " 5   Animation    3912 non-null   int64 \n",
      " 6   Biography    3912 non-null   int64 \n",
      " 7   Comedy       3912 non-null   int64 \n",
      " 8   Crime        3912 non-null   int64 \n",
      " 9   Documentary  3912 non-null   int64 \n",
      " 10  Drama        3912 non-null   int64 \n",
      " 11  Family       3912 non-null   int64 \n",
      " 12  Fantasy      3912 non-null   int64 \n",
      " 13  Game-Show    3912 non-null   int64 \n",
      " 14  History      3912 non-null   int64 \n",
      " 15  Horror       3912 non-null   int64 \n",
      " 16  Lifestyle    3912 non-null   int64 \n",
      " 17  Music        3912 non-null   int64 \n",
      " 18  Musical      3912 non-null   int64 \n",
      " 19  Mystery      3912 non-null   int64 \n",
      " 20  News         3912 non-null   int64 \n",
      " 21  Reality-TV   3912 non-null   int64 \n",
      " 22  Romance      3912 non-null   int64 \n",
      " 23  Sci-Fi       3912 non-null   int64 \n",
      " 24  Short        3912 non-null   int64 \n",
      " 25  Sport        3912 non-null   int64 \n",
      " 26  Talk-Show    3912 non-null   int64 \n",
      " 27  Thriller     3912 non-null   int64 \n",
      " 28  War          3912 non-null   int64 \n",
      " 29  Western      3912 non-null   int64 \n",
      "dtypes: int64(28), object(2)\n",
      "memory usage: 917.0+ KB\n"
     ]
    }
   ],
   "source": [
    "df2 = df[::30]\n",
    "df2.info()"
   ]
  },
  {
   "cell_type": "code",
   "execution_count": 8,
   "metadata": {
    "scrolled": true
   },
   "outputs": [
    {
     "data": {
      "text/html": [
       "<div>\n",
       "<style scoped>\n",
       "    .dataframe tbody tr th:only-of-type {\n",
       "        vertical-align: middle;\n",
       "    }\n",
       "\n",
       "    .dataframe tbody tr th {\n",
       "        vertical-align: top;\n",
       "    }\n",
       "\n",
       "    .dataframe thead th {\n",
       "        text-align: right;\n",
       "    }\n",
       "</style>\n",
       "<table border=\"1\" class=\"dataframe\">\n",
       "  <thead>\n",
       "    <tr style=\"text-align: right;\">\n",
       "      <th></th>\n",
       "      <th>title</th>\n",
       "      <th>plot</th>\n",
       "      <th>Action</th>\n",
       "      <th>Adult</th>\n",
       "      <th>Adventure</th>\n",
       "      <th>Animation</th>\n",
       "      <th>Biography</th>\n",
       "      <th>Comedy</th>\n",
       "      <th>Crime</th>\n",
       "      <th>Documentary</th>\n",
       "      <th>...</th>\n",
       "      <th>News</th>\n",
       "      <th>Reality-TV</th>\n",
       "      <th>Romance</th>\n",
       "      <th>Sci-Fi</th>\n",
       "      <th>Short</th>\n",
       "      <th>Sport</th>\n",
       "      <th>Talk-Show</th>\n",
       "      <th>Thriller</th>\n",
       "      <th>War</th>\n",
       "      <th>Western</th>\n",
       "    </tr>\n",
       "  </thead>\n",
       "  <tbody>\n",
       "    <tr>\n",
       "      <th>0</th>\n",
       "      <td>\"#7DaysLater\" (2013)</td>\n",
       "      <td>#7dayslater is an interactive comedy series f...</td>\n",
       "      <td>0</td>\n",
       "      <td>0</td>\n",
       "      <td>0</td>\n",
       "      <td>0</td>\n",
       "      <td>0</td>\n",
       "      <td>1</td>\n",
       "      <td>0</td>\n",
       "      <td>0</td>\n",
       "      <td>...</td>\n",
       "      <td>0</td>\n",
       "      <td>0</td>\n",
       "      <td>0</td>\n",
       "      <td>0</td>\n",
       "      <td>0</td>\n",
       "      <td>0</td>\n",
       "      <td>0</td>\n",
       "      <td>0</td>\n",
       "      <td>0</td>\n",
       "      <td>0</td>\n",
       "    </tr>\n",
       "    <tr>\n",
       "      <th>30</th>\n",
       "      <td>\"$weepstake$\" (1979) {(#1.1)}</td>\n",
       "      <td>This week's ticker buyers are a man who just ...</td>\n",
       "      <td>0</td>\n",
       "      <td>0</td>\n",
       "      <td>0</td>\n",
       "      <td>0</td>\n",
       "      <td>0</td>\n",
       "      <td>0</td>\n",
       "      <td>0</td>\n",
       "      <td>0</td>\n",
       "      <td>...</td>\n",
       "      <td>0</td>\n",
       "      <td>0</td>\n",
       "      <td>0</td>\n",
       "      <td>0</td>\n",
       "      <td>0</td>\n",
       "      <td>0</td>\n",
       "      <td>0</td>\n",
       "      <td>0</td>\n",
       "      <td>0</td>\n",
       "      <td>0</td>\n",
       "    </tr>\n",
       "    <tr>\n",
       "      <th>60</th>\n",
       "      <td>\"'Allo 'Allo!\" (1982) {The Crooked Fences (#6.6)}</td>\n",
       "      <td>Herr Flick is worried about his career in the...</td>\n",
       "      <td>0</td>\n",
       "      <td>0</td>\n",
       "      <td>0</td>\n",
       "      <td>0</td>\n",
       "      <td>0</td>\n",
       "      <td>1</td>\n",
       "      <td>0</td>\n",
       "      <td>0</td>\n",
       "      <td>...</td>\n",
       "      <td>0</td>\n",
       "      <td>0</td>\n",
       "      <td>0</td>\n",
       "      <td>0</td>\n",
       "      <td>0</td>\n",
       "      <td>0</td>\n",
       "      <td>0</td>\n",
       "      <td>0</td>\n",
       "      <td>1</td>\n",
       "      <td>0</td>\n",
       "    </tr>\n",
       "    <tr>\n",
       "      <th>90</th>\n",
       "      <td>\"'Til Death\" (2006) {Doug and Ally Return (#4.1)}</td>\n",
       "      <td>Eddie and Joy's free-spirited daughter, Ally,...</td>\n",
       "      <td>0</td>\n",
       "      <td>0</td>\n",
       "      <td>0</td>\n",
       "      <td>0</td>\n",
       "      <td>0</td>\n",
       "      <td>1</td>\n",
       "      <td>0</td>\n",
       "      <td>0</td>\n",
       "      <td>...</td>\n",
       "      <td>0</td>\n",
       "      <td>0</td>\n",
       "      <td>1</td>\n",
       "      <td>0</td>\n",
       "      <td>0</td>\n",
       "      <td>0</td>\n",
       "      <td>0</td>\n",
       "      <td>0</td>\n",
       "      <td>0</td>\n",
       "      <td>0</td>\n",
       "    </tr>\n",
       "    <tr>\n",
       "      <th>120</th>\n",
       "      <td>\"0511 TV Lokal\" (2007) {Johannes Heesters Auss...</td>\n",
       "      <td>Johan Marius Nicolaas Heesters, called \"Jopi(...</td>\n",
       "      <td>0</td>\n",
       "      <td>0</td>\n",
       "      <td>0</td>\n",
       "      <td>0</td>\n",
       "      <td>0</td>\n",
       "      <td>0</td>\n",
       "      <td>0</td>\n",
       "      <td>1</td>\n",
       "      <td>...</td>\n",
       "      <td>1</td>\n",
       "      <td>0</td>\n",
       "      <td>0</td>\n",
       "      <td>0</td>\n",
       "      <td>0</td>\n",
       "      <td>0</td>\n",
       "      <td>0</td>\n",
       "      <td>0</td>\n",
       "      <td>0</td>\n",
       "      <td>0</td>\n",
       "    </tr>\n",
       "  </tbody>\n",
       "</table>\n",
       "<p>5 rows × 30 columns</p>\n",
       "</div>"
      ],
      "text/plain": [
       "                                                 title  \\\n",
       "0                                 \"#7DaysLater\" (2013)   \n",
       "30                       \"$weepstake$\" (1979) {(#1.1)}   \n",
       "60   \"'Allo 'Allo!\" (1982) {The Crooked Fences (#6.6)}   \n",
       "90   \"'Til Death\" (2006) {Doug and Ally Return (#4.1)}   \n",
       "120  \"0511 TV Lokal\" (2007) {Johannes Heesters Auss...   \n",
       "\n",
       "                                                  plot  Action  Adult  \\\n",
       "0     #7dayslater is an interactive comedy series f...       0      0   \n",
       "30    This week's ticker buyers are a man who just ...       0      0   \n",
       "60    Herr Flick is worried about his career in the...       0      0   \n",
       "90    Eddie and Joy's free-spirited daughter, Ally,...       0      0   \n",
       "120   Johan Marius Nicolaas Heesters, called \"Jopi(...       0      0   \n",
       "\n",
       "     Adventure  Animation  Biography  Comedy  Crime  Documentary  ...  News  \\\n",
       "0            0          0          0       1      0            0  ...     0   \n",
       "30           0          0          0       0      0            0  ...     0   \n",
       "60           0          0          0       1      0            0  ...     0   \n",
       "90           0          0          0       1      0            0  ...     0   \n",
       "120          0          0          0       0      0            1  ...     1   \n",
       "\n",
       "     Reality-TV  Romance  Sci-Fi  Short  Sport  Talk-Show  Thriller  War  \\\n",
       "0             0        0       0      0      0          0         0    0   \n",
       "30            0        0       0      0      0          0         0    0   \n",
       "60            0        0       0      0      0          0         0    1   \n",
       "90            0        1       0      0      0          0         0    0   \n",
       "120           0        0       0      0      0          0         0    0   \n",
       "\n",
       "     Western  \n",
       "0          0  \n",
       "30         0  \n",
       "60         0  \n",
       "90         0  \n",
       "120        0  \n",
       "\n",
       "[5 rows x 30 columns]"
      ]
     },
     "execution_count": 8,
     "metadata": {},
     "output_type": "execute_result"
    }
   ],
   "source": [
    "df2.head()"
   ]
  },
  {
   "cell_type": "code",
   "execution_count": 10,
   "metadata": {},
   "outputs": [
    {
     "data": {
      "text/html": [
       "<div>\n",
       "<style scoped>\n",
       "    .dataframe tbody tr th:only-of-type {\n",
       "        vertical-align: middle;\n",
       "    }\n",
       "\n",
       "    .dataframe tbody tr th {\n",
       "        vertical-align: top;\n",
       "    }\n",
       "\n",
       "    .dataframe thead th {\n",
       "        text-align: right;\n",
       "    }\n",
       "</style>\n",
       "<table border=\"1\" class=\"dataframe\">\n",
       "  <thead>\n",
       "    <tr style=\"text-align: right;\">\n",
       "      <th></th>\n",
       "      <th>genre</th>\n",
       "      <th>#movies</th>\n",
       "    </tr>\n",
       "  </thead>\n",
       "  <tbody>\n",
       "    <tr>\n",
       "      <th>0</th>\n",
       "      <td>Action</td>\n",
       "      <td>407</td>\n",
       "    </tr>\n",
       "    <tr>\n",
       "      <th>1</th>\n",
       "      <td>Adult</td>\n",
       "      <td>3</td>\n",
       "    </tr>\n",
       "    <tr>\n",
       "      <th>2</th>\n",
       "      <td>Adventure</td>\n",
       "      <td>340</td>\n",
       "    </tr>\n",
       "    <tr>\n",
       "      <th>3</th>\n",
       "      <td>Animation</td>\n",
       "      <td>371</td>\n",
       "    </tr>\n",
       "    <tr>\n",
       "      <th>4</th>\n",
       "      <td>Biography</td>\n",
       "      <td>47</td>\n",
       "    </tr>\n",
       "    <tr>\n",
       "      <th>5</th>\n",
       "      <td>Comedy</td>\n",
       "      <td>1159</td>\n",
       "    </tr>\n",
       "    <tr>\n",
       "      <th>6</th>\n",
       "      <td>Crime</td>\n",
       "      <td>499</td>\n",
       "    </tr>\n",
       "    <tr>\n",
       "      <th>7</th>\n",
       "      <td>Documentary</td>\n",
       "      <td>411</td>\n",
       "    </tr>\n",
       "    <tr>\n",
       "      <th>8</th>\n",
       "      <td>Drama</td>\n",
       "      <td>1514</td>\n",
       "    </tr>\n",
       "    <tr>\n",
       "      <th>9</th>\n",
       "      <td>Family</td>\n",
       "      <td>529</td>\n",
       "    </tr>\n",
       "    <tr>\n",
       "      <th>10</th>\n",
       "      <td>Fantasy</td>\n",
       "      <td>240</td>\n",
       "    </tr>\n",
       "    <tr>\n",
       "      <th>11</th>\n",
       "      <td>Game-Show</td>\n",
       "      <td>68</td>\n",
       "    </tr>\n",
       "    <tr>\n",
       "      <th>12</th>\n",
       "      <td>History</td>\n",
       "      <td>90</td>\n",
       "    </tr>\n",
       "    <tr>\n",
       "      <th>13</th>\n",
       "      <td>Horror</td>\n",
       "      <td>92</td>\n",
       "    </tr>\n",
       "    <tr>\n",
       "      <th>14</th>\n",
       "      <td>Lifestyle</td>\n",
       "      <td>0</td>\n",
       "    </tr>\n",
       "    <tr>\n",
       "      <th>15</th>\n",
       "      <td>Music</td>\n",
       "      <td>94</td>\n",
       "    </tr>\n",
       "    <tr>\n",
       "      <th>16</th>\n",
       "      <td>Musical</td>\n",
       "      <td>25</td>\n",
       "    </tr>\n",
       "    <tr>\n",
       "      <th>17</th>\n",
       "      <td>Mystery</td>\n",
       "      <td>392</td>\n",
       "    </tr>\n",
       "    <tr>\n",
       "      <th>18</th>\n",
       "      <td>News</td>\n",
       "      <td>135</td>\n",
       "    </tr>\n",
       "    <tr>\n",
       "      <th>19</th>\n",
       "      <td>Reality-TV</td>\n",
       "      <td>392</td>\n",
       "    </tr>\n",
       "    <tr>\n",
       "      <th>20</th>\n",
       "      <td>Romance</td>\n",
       "      <td>645</td>\n",
       "    </tr>\n",
       "    <tr>\n",
       "      <th>21</th>\n",
       "      <td>Sci-Fi</td>\n",
       "      <td>281</td>\n",
       "    </tr>\n",
       "    <tr>\n",
       "      <th>22</th>\n",
       "      <td>Short</td>\n",
       "      <td>25</td>\n",
       "    </tr>\n",
       "    <tr>\n",
       "      <th>23</th>\n",
       "      <td>Sport</td>\n",
       "      <td>70</td>\n",
       "    </tr>\n",
       "    <tr>\n",
       "      <th>24</th>\n",
       "      <td>Talk-Show</td>\n",
       "      <td>181</td>\n",
       "    </tr>\n",
       "    <tr>\n",
       "      <th>25</th>\n",
       "      <td>Thriller</td>\n",
       "      <td>288</td>\n",
       "    </tr>\n",
       "    <tr>\n",
       "      <th>26</th>\n",
       "      <td>War</td>\n",
       "      <td>46</td>\n",
       "    </tr>\n",
       "    <tr>\n",
       "      <th>27</th>\n",
       "      <td>Western</td>\n",
       "      <td>106</td>\n",
       "    </tr>\n",
       "  </tbody>\n",
       "</table>\n",
       "</div>"
      ],
      "text/plain": [
       "          genre  #movies\n",
       "0        Action      407\n",
       "1         Adult        3\n",
       "2     Adventure      340\n",
       "3     Animation      371\n",
       "4     Biography       47\n",
       "5        Comedy     1159\n",
       "6         Crime      499\n",
       "7   Documentary      411\n",
       "8         Drama     1514\n",
       "9        Family      529\n",
       "10      Fantasy      240\n",
       "11    Game-Show       68\n",
       "12      History       90\n",
       "13       Horror       92\n",
       "14    Lifestyle        0\n",
       "15        Music       94\n",
       "16      Musical       25\n",
       "17      Mystery      392\n",
       "18         News      135\n",
       "19   Reality-TV      392\n",
       "20      Romance      645\n",
       "21       Sci-Fi      281\n",
       "22        Short       25\n",
       "23        Sport       70\n",
       "24    Talk-Show      181\n",
       "25     Thriller      288\n",
       "26          War       46\n",
       "27      Western      106"
      ]
     },
     "execution_count": 10,
     "metadata": {},
     "output_type": "execute_result"
    }
   ],
   "source": [
    "# 장르별 영화 개수 카운트\n",
    "df_genres = df2.drop(['plot', 'title'], axis=1)\n",
    "counts = []\n",
    "categories = list(df_genres.columns.values)\n",
    "for i in categories:\n",
    "    counts.append((i, df_genres[i].sum()))\n",
    "df_stats = pd.DataFrame(counts, columns=['genre', '#movies'])\n",
    "df_stats"
   ]
  },
  {
   "cell_type": "code",
   "execution_count": 11,
   "metadata": {},
   "outputs": [
    {
     "data": {
      "text/plain": [
       "<AxesSubplot:xlabel='genre'>"
      ]
     },
     "execution_count": 11,
     "metadata": {},
     "output_type": "execute_result"
    },
    {
     "data": {
      "image/png": "[encoded data removed]",
      "text/plain": [
       "<Figure size 1080x576 with 1 Axes>"
      ]
     },
     "metadata": {
      "needs_background": "light"
     },
     "output_type": "display_data"
    }
   ],
   "source": [
    "df_stats.plot(x='genre', y='#movies', kind='bar', legend=False, grid=True, figsize=(15, 8))"
   ]
  },
  {
   "cell_type": "code",
   "execution_count": 12,
   "metadata": {},
   "outputs": [
    {
     "name": "stderr",
     "output_type": "stream",
     "text": [
      "d:\\program\\python\\python37\\lib\\site-packages\\pandas\\core\\frame.py:4167: SettingWithCopyWarning: \n",
      "A value is trying to be set on a copy of a slice from a DataFrame\n",
      "\n",
      "See the caveats in the documentation: https://pandas.pydata.org/pandas-docs/stable/user_guide/indexing.html#returning-a-view-versus-a-copy\n",
      "  errors=errors,\n"
     ]
    }
   ],
   "source": [
    "df2.drop('Lifestyle', axis=1, inplace=True)"
   ]
  },
  {
   "cell_type": "code",
   "execution_count": 13,
   "metadata": {
    "scrolled": false
   },
   "outputs": [
    {
     "name": "stderr",
     "output_type": "stream",
     "text": [
      "d:\\program\\python\\python37\\lib\\site-packages\\ipykernel_launcher.py:2: SettingWithCopyWarning: \n",
      "A value is trying to be set on a copy of a slice from a DataFrame.\n",
      "Try using .loc[row_indexer,col_indexer] = value instead\n",
      "\n",
      "See the caveats in the documentation: https://pandas.pydata.org/pandas-docs/stable/user_guide/indexing.html#returning-a-view-versus-a-copy\n",
      "  \n"
     ]
    },
    {
     "data": {
      "text/plain": [
       "en    3907\n",
       "nl       4\n",
       "de       1\n",
       "Name: plot_lang, dtype: int64"
      ]
     },
     "execution_count": 13,
     "metadata": {},
     "output_type": "execute_result"
    }
   ],
   "source": [
    "from langdetect import detect\n",
    "df2['plot_lang'] = df2.apply(lambda row: detect(row['plot']), axis=1)\n",
    "df2['plot_lang'].value_counts()"
   ]
  },
  {
   "cell_type": "code",
   "execution_count": 14,
   "metadata": {},
   "outputs": [
    {
     "data": {
      "text/plain": [
       "0         True\n",
       "30        True\n",
       "60        True\n",
       "90        True\n",
       "120       True\n",
       "          ... \n",
       "117210    True\n",
       "117240    True\n",
       "117270    True\n",
       "117300    True\n",
       "117330    True\n",
       "Name: plot_lang, Length: 3912, dtype: bool"
      ]
     },
     "execution_count": 14,
     "metadata": {},
     "output_type": "execute_result"
    }
   ],
   "source": [
    "df2.plot_lang.isin(['en'])"
   ]
  },
  {
   "cell_type": "code",
   "execution_count": 15,
   "metadata": {},
   "outputs": [],
   "source": [
    "df2 = df2[df2.plot_lang.isin(['en'])]\n",
    "df2.to_csv(\"data/movies_genres_en.csv\", sep='\\t', encoding='utf-8', index=False)"
   ]
  },
  {
   "cell_type": "markdown",
   "metadata": {},
   "source": [
    "# Clustering"
   ]
  },
  {
   "cell_type": "code",
   "execution_count": 16,
   "metadata": {},
   "outputs": [],
   "source": [
    "data = pd.read_csv('data/movies_genres_en.csv', delimiter='\\t')"
   ]
  },
  {
   "cell_type": "code",
   "execution_count": 17,
   "metadata": {},
   "outputs": [
    {
     "data": {
      "text/html": [
       "<div>\n",
       "<style scoped>\n",
       "    .dataframe tbody tr th:only-of-type {\n",
       "        vertical-align: middle;\n",
       "    }\n",
       "\n",
       "    .dataframe tbody tr th {\n",
       "        vertical-align: top;\n",
       "    }\n",
       "\n",
       "    .dataframe thead th {\n",
       "        text-align: right;\n",
       "    }\n",
       "</style>\n",
       "<table border=\"1\" class=\"dataframe\">\n",
       "  <thead>\n",
       "    <tr style=\"text-align: right;\">\n",
       "      <th></th>\n",
       "      <th>title</th>\n",
       "      <th>plot</th>\n",
       "      <th>Action</th>\n",
       "      <th>Adult</th>\n",
       "      <th>Adventure</th>\n",
       "      <th>Animation</th>\n",
       "      <th>Biography</th>\n",
       "      <th>Comedy</th>\n",
       "      <th>Crime</th>\n",
       "      <th>Documentary</th>\n",
       "      <th>...</th>\n",
       "      <th>Reality-TV</th>\n",
       "      <th>Romance</th>\n",
       "      <th>Sci-Fi</th>\n",
       "      <th>Short</th>\n",
       "      <th>Sport</th>\n",
       "      <th>Talk-Show</th>\n",
       "      <th>Thriller</th>\n",
       "      <th>War</th>\n",
       "      <th>Western</th>\n",
       "      <th>plot_lang</th>\n",
       "    </tr>\n",
       "  </thead>\n",
       "  <tbody>\n",
       "    <tr>\n",
       "      <th>0</th>\n",
       "      <td>\"#7DaysLater\" (2013)</td>\n",
       "      <td>#7dayslater is an interactive comedy series f...</td>\n",
       "      <td>0</td>\n",
       "      <td>0</td>\n",
       "      <td>0</td>\n",
       "      <td>0</td>\n",
       "      <td>0</td>\n",
       "      <td>1</td>\n",
       "      <td>0</td>\n",
       "      <td>0</td>\n",
       "      <td>...</td>\n",
       "      <td>0</td>\n",
       "      <td>0</td>\n",
       "      <td>0</td>\n",
       "      <td>0</td>\n",
       "      <td>0</td>\n",
       "      <td>0</td>\n",
       "      <td>0</td>\n",
       "      <td>0</td>\n",
       "      <td>0</td>\n",
       "      <td>en</td>\n",
       "    </tr>\n",
       "    <tr>\n",
       "      <th>1</th>\n",
       "      <td>\"$weepstake$\" (1979) {(#1.1)}</td>\n",
       "      <td>This week's ticker buyers are a man who just ...</td>\n",
       "      <td>0</td>\n",
       "      <td>0</td>\n",
       "      <td>0</td>\n",
       "      <td>0</td>\n",
       "      <td>0</td>\n",
       "      <td>0</td>\n",
       "      <td>0</td>\n",
       "      <td>0</td>\n",
       "      <td>...</td>\n",
       "      <td>0</td>\n",
       "      <td>0</td>\n",
       "      <td>0</td>\n",
       "      <td>0</td>\n",
       "      <td>0</td>\n",
       "      <td>0</td>\n",
       "      <td>0</td>\n",
       "      <td>0</td>\n",
       "      <td>0</td>\n",
       "      <td>en</td>\n",
       "    </tr>\n",
       "    <tr>\n",
       "      <th>2</th>\n",
       "      <td>\"'Allo 'Allo!\" (1982) {The Crooked Fences (#6.6)}</td>\n",
       "      <td>Herr Flick is worried about his career in the...</td>\n",
       "      <td>0</td>\n",
       "      <td>0</td>\n",
       "      <td>0</td>\n",
       "      <td>0</td>\n",
       "      <td>0</td>\n",
       "      <td>1</td>\n",
       "      <td>0</td>\n",
       "      <td>0</td>\n",
       "      <td>...</td>\n",
       "      <td>0</td>\n",
       "      <td>0</td>\n",
       "      <td>0</td>\n",
       "      <td>0</td>\n",
       "      <td>0</td>\n",
       "      <td>0</td>\n",
       "      <td>0</td>\n",
       "      <td>1</td>\n",
       "      <td>0</td>\n",
       "      <td>en</td>\n",
       "    </tr>\n",
       "    <tr>\n",
       "      <th>3</th>\n",
       "      <td>\"'Til Death\" (2006) {Doug and Ally Return (#4.1)}</td>\n",
       "      <td>Eddie and Joy's free-spirited daughter, Ally,...</td>\n",
       "      <td>0</td>\n",
       "      <td>0</td>\n",
       "      <td>0</td>\n",
       "      <td>0</td>\n",
       "      <td>0</td>\n",
       "      <td>1</td>\n",
       "      <td>0</td>\n",
       "      <td>0</td>\n",
       "      <td>...</td>\n",
       "      <td>0</td>\n",
       "      <td>1</td>\n",
       "      <td>0</td>\n",
       "      <td>0</td>\n",
       "      <td>0</td>\n",
       "      <td>0</td>\n",
       "      <td>0</td>\n",
       "      <td>0</td>\n",
       "      <td>0</td>\n",
       "      <td>en</td>\n",
       "    </tr>\n",
       "    <tr>\n",
       "      <th>4</th>\n",
       "      <td>\"0511 TV Lokal\" (2007) {Johannes Heesters Auss...</td>\n",
       "      <td>Johan Marius Nicolaas Heesters, called \"Jopi(...</td>\n",
       "      <td>0</td>\n",
       "      <td>0</td>\n",
       "      <td>0</td>\n",
       "      <td>0</td>\n",
       "      <td>0</td>\n",
       "      <td>0</td>\n",
       "      <td>0</td>\n",
       "      <td>1</td>\n",
       "      <td>...</td>\n",
       "      <td>0</td>\n",
       "      <td>0</td>\n",
       "      <td>0</td>\n",
       "      <td>0</td>\n",
       "      <td>0</td>\n",
       "      <td>0</td>\n",
       "      <td>0</td>\n",
       "      <td>0</td>\n",
       "      <td>0</td>\n",
       "      <td>en</td>\n",
       "    </tr>\n",
       "  </tbody>\n",
       "</table>\n",
       "<p>5 rows × 30 columns</p>\n",
       "</div>"
      ],
      "text/plain": [
       "                                               title  \\\n",
       "0                               \"#7DaysLater\" (2013)   \n",
       "1                      \"$weepstake$\" (1979) {(#1.1)}   \n",
       "2  \"'Allo 'Allo!\" (1982) {The Crooked Fences (#6.6)}   \n",
       "3  \"'Til Death\" (2006) {Doug and Ally Return (#4.1)}   \n",
       "4  \"0511 TV Lokal\" (2007) {Johannes Heesters Auss...   \n",
       "\n",
       "                                                plot  Action  Adult  \\\n",
       "0   #7dayslater is an interactive comedy series f...       0      0   \n",
       "1   This week's ticker buyers are a man who just ...       0      0   \n",
       "2   Herr Flick is worried about his career in the...       0      0   \n",
       "3   Eddie and Joy's free-spirited daughter, Ally,...       0      0   \n",
       "4   Johan Marius Nicolaas Heesters, called \"Jopi(...       0      0   \n",
       "\n",
       "   Adventure  Animation  Biography  Comedy  Crime  Documentary  ...  \\\n",
       "0          0          0          0       1      0            0  ...   \n",
       "1          0          0          0       0      0            0  ...   \n",
       "2          0          0          0       1      0            0  ...   \n",
       "3          0          0          0       1      0            0  ...   \n",
       "4          0          0          0       0      0            1  ...   \n",
       "\n",
       "   Reality-TV  Romance  Sci-Fi  Short  Sport  Talk-Show  Thriller  War  \\\n",
       "0           0        0       0      0      0          0         0    0   \n",
       "1           0        0       0      0      0          0         0    0   \n",
       "2           0        0       0      0      0          0         0    1   \n",
       "3           0        1       0      0      0          0         0    0   \n",
       "4           0        0       0      0      0          0         0    0   \n",
       "\n",
       "   Western  plot_lang  \n",
       "0        0         en  \n",
       "1        0         en  \n",
       "2        0         en  \n",
       "3        0         en  \n",
       "4        0         en  \n",
       "\n",
       "[5 rows x 30 columns]"
      ]
     },
     "execution_count": 17,
     "metadata": {},
     "output_type": "execute_result"
    }
   ],
   "source": [
    "data.head()"
   ]
  },
  {
   "cell_type": "code",
   "execution_count": 18,
   "metadata": {},
   "outputs": [
    {
     "name": "stdout",
     "output_type": "stream",
     "text": [
      "<class 'pandas.core.frame.DataFrame'>\n",
      "RangeIndex: 3907 entries, 0 to 3906\n",
      "Data columns (total 30 columns):\n",
      " #   Column       Non-Null Count  Dtype \n",
      "---  ------       --------------  ----- \n",
      " 0   title        3907 non-null   object\n",
      " 1   plot         3907 non-null   object\n",
      " 2   Action       3907 non-null   int64 \n",
      " 3   Adult        3907 non-null   int64 \n",
      " 4   Adventure    3907 non-null   int64 \n",
      " 5   Animation    3907 non-null   int64 \n",
      " 6   Biography    3907 non-null   int64 \n",
      " 7   Comedy       3907 non-null   int64 \n",
      " 8   Crime        3907 non-null   int64 \n",
      " 9   Documentary  3907 non-null   int64 \n",
      " 10  Drama        3907 non-null   int64 \n",
      " 11  Family       3907 non-null   int64 \n",
      " 12  Fantasy      3907 non-null   int64 \n",
      " 13  Game-Show    3907 non-null   int64 \n",
      " 14  History      3907 non-null   int64 \n",
      " 15  Horror       3907 non-null   int64 \n",
      " 16  Music        3907 non-null   int64 \n",
      " 17  Musical      3907 non-null   int64 \n",
      " 18  Mystery      3907 non-null   int64 \n",
      " 19  News         3907 non-null   int64 \n",
      " 20  Reality-TV   3907 non-null   int64 \n",
      " 21  Romance      3907 non-null   int64 \n",
      " 22  Sci-Fi       3907 non-null   int64 \n",
      " 23  Short        3907 non-null   int64 \n",
      " 24  Sport        3907 non-null   int64 \n",
      " 25  Talk-Show    3907 non-null   int64 \n",
      " 26  Thriller     3907 non-null   int64 \n",
      " 27  War          3907 non-null   int64 \n",
      " 28  Western      3907 non-null   int64 \n",
      " 29  plot_lang    3907 non-null   object\n",
      "dtypes: int64(27), object(3)\n",
      "memory usage: 915.8+ KB\n"
     ]
    }
   ],
   "source": [
    "data.info()"
   ]
  },
  {
   "cell_type": "code",
   "execution_count": 19,
   "metadata": {},
   "outputs": [],
   "source": [
    "docs = list(data['plot'])"
   ]
  },
  {
   "cell_type": "code",
   "execution_count": 20,
   "metadata": {},
   "outputs": [
    {
     "data": {
      "text/plain": [
       "[\" #7dayslater is an interactive comedy series featuring an ensemble cast of YouTube celebrities. Each week the audience writes the brief via social media for an all-new episode featuring a well-known guest-star. Seven days later that week's episode premieres on TV and across multiple platforms.\",\n",
       " \" This week's ticker buyers are a man who just got out of jail and is on probation needs to try and find a legitimate job, a woman who's separated from her husband who has a girlfriend and a dog whose owner's relatives try to get a piece of what he wins.\",\n",
       " ' Herr Flick is worried about his career in the Gestapo after all the recent cock-ups and feels he has to flee. For this he needs money and he demands René to give him the painting so he can sell it. Von Strohm, Gruber, Helga and Bertorelli also want the painting back and sell it because the escape of the airmen has made them nervous about their futures too. Meanwhile, Crabtree is reunited with an old love!']"
      ]
     },
     "execution_count": 20,
     "metadata": {},
     "output_type": "execute_result"
    }
   ],
   "source": [
    "docs[:3]"
   ]
  },
  {
   "cell_type": "code",
   "execution_count": 21,
   "metadata": {},
   "outputs": [],
   "source": [
    "# 텍스트 전처리 함수\n",
    "\n",
    "import string\n",
    "def text_process(text):\n",
    "    '''\n",
    "    Takes in a string of text, then performs the following:\n",
    "    1. Remove all punctuation\n",
    "    2. Remove all stopwords\n",
    "    3. Return the cleaned text as a list of words\n",
    "    '''\n",
    "    nopunc = [char for char in text if char not in string.punctuation]\n",
    "    nopunc = ''.join(nopunc)\n",
    "    \n",
    "    return [word for word in nopunc.split() if word.lower() not in stopwords.words('english')]\n",
    "\n"
   ]
  },
  {
   "cell_type": "code",
   "execution_count": 22,
   "metadata": {},
   "outputs": [
    {
     "name": "stdout",
     "output_type": "stream",
     "text": [
      " #7dayslater is an interactive comedy series featuring an ensemble cast of YouTube celebrities. Each week the audience writes the brief via social media for an all-new episode featuring a well-known guest-star. Seven days later that week's episode premieres on TV and across multiple platforms.\n",
      "['7dayslater', 'interactive', 'comedy', 'series', 'featuring', 'ensemble', 'cast', 'YouTube', 'celebrities', 'week', 'audience', 'writes', 'brief', 'via', 'social', 'media', 'allnew', 'episode', 'featuring', 'wellknown', 'gueststar', 'Seven', 'days', 'later', 'weeks', 'episode', 'premieres', 'TV', 'across', 'multiple', 'platforms']\n"
     ]
    }
   ],
   "source": [
    "# docs[0] 확인\n",
    "print(docs[0])\n",
    "print(text_process(docs[0]))"
   ]
  },
  {
   "cell_type": "code",
   "execution_count": 23,
   "metadata": {},
   "outputs": [],
   "source": [
    "# sklearn의 CountVectorizer 함수 사용, bow(bag of words)로 변환하는 객체 생성\n",
    "bow_transformer = CountVectorizer(analyzer=text_process).fit(docs)"
   ]
  },
  {
   "cell_type": "code",
   "execution_count": 24,
   "metadata": {},
   "outputs": [
    {
     "data": {
      "text/plain": [
       "36366"
      ]
     },
     "execution_count": 24,
     "metadata": {},
     "output_type": "execute_result"
    }
   ],
   "source": [
    "len(bow_transformer.vocabulary_)"
   ]
  },
  {
   "cell_type": "code",
   "execution_count": 25,
   "metadata": {},
   "outputs": [
    {
     "data": {
      "text/plain": [
       "\" Gen. Hoagland, a strictly by-the-book desk jockey, visits the 918th to evaluate Gen. Savage's performance, but he arrives with a headstrong bias because Savage has a reputation for improvised tactics to deal with the randomness of war, as well as an apparent obsession with an especially dangerous target deep within Germany. Sparks fly from the moment Hoagland lands hellbent on getting Savage fired. In an effort to show Hoagland the vagaries of combat, Savage invites him to tag along on a mission. And then the unthinkable; Hoagland is killed in a manner that casts suspicion on Savage. If the looming inquiry is not enough of a distraction, Savage also has to deal with a mentally unstable pilot who has lost confidence in himself and his commander, and may provide information that could cast a very dark shadow on the investigation.\""
      ]
     },
     "execution_count": 25,
     "metadata": {},
     "output_type": "execute_result"
    }
   ],
   "source": [
    "# 문서 확인\n",
    "docs[9]"
   ]
  },
  {
   "cell_type": "code",
   "execution_count": 26,
   "metadata": {},
   "outputs": [
    {
     "name": "stdout",
     "output_type": "stream",
     "text": [
      "  (0, 476)\t1\n",
      "  (0, 6117)\t2\n",
      "  (0, 6178)\t1\n",
      "  (0, 7131)\t4\n",
      "  (0, 13630)\t5\n",
      "  (0, 13631)\t1\n",
      "  (0, 14397)\t1\n",
      "  (0, 17536)\t1\n",
      "  (0, 17544)\t1\n",
      "  (0, 17790)\t1\n",
      "  (0, 17933)\t1\n",
      "  (0, 18648)\t1\n",
      "  (0, 19362)\t1\n",
      "  (0, 19596)\t1\n",
      "  (0, 19608)\t1\n",
      "  (0, 20244)\t1\n",
      "  (0, 20287)\t1\n",
      "  (0, 20508)\t1\n",
      "  (0, 20855)\t1\n",
      "  (0, 21269)\t1\n",
      "  (0, 21279)\t1\n",
      "  (0, 21334)\t2\n",
      "  (0, 21430)\t1\n",
      "  (0, 21651)\t1\n",
      "  (0, 22056)\t1\n",
      "  :\t:\n",
      "  (0, 27315)\t1\n",
      "  (0, 27470)\t1\n",
      "  (0, 27592)\t1\n",
      "  (0, 27825)\t1\n",
      "  (0, 27907)\t1\n",
      "  (0, 28571)\t1\n",
      "  (0, 29352)\t1\n",
      "  (0, 29518)\t1\n",
      "  (0, 30341)\t1\n",
      "  (0, 30669)\t1\n",
      "  (0, 31284)\t1\n",
      "  (0, 32369)\t1\n",
      "  (0, 32532)\t1\n",
      "  (0, 33626)\t1\n",
      "  (0, 33962)\t1\n",
      "  (0, 34091)\t1\n",
      "  (0, 34095)\t1\n",
      "  (0, 34153)\t1\n",
      "  (0, 35334)\t1\n",
      "  (0, 35350)\t1\n",
      "  (0, 35454)\t1\n",
      "  (0, 35644)\t1\n",
      "  (0, 35771)\t1\n",
      "  (0, 35922)\t1\n",
      "  (0, 36115)\t1\n"
     ]
    }
   ],
   "source": [
    "bow_9 = bow_transformer.transform([docs[9]])\n",
    "print(bow_9)"
   ]
  },
  {
   "cell_type": "code",
   "execution_count": null,
   "metadata": {},
   "outputs": [],
   "source": [
    "# 이제 docs를 변형\n",
    "docs = bow_transformer.transform(docs)"
   ]
  },
  {
   "cell_type": "code",
   "execution_count": null,
   "metadata": {},
   "outputs": [],
   "source": [
    "# docs 확인\n",
    "print('Shape of Sparse Matrix: ', docs.shape)\n",
    "print('Amount of Non-Zero occurrences: ', docs.nnz)"
   ]
  },
  {
   "cell_type": "code",
   "execution_count": null,
   "metadata": {},
   "outputs": [],
   "source": [
    "190579/(3907*36343)*100"
   ]
  },
  {
   "cell_type": "code",
   "execution_count": null,
   "metadata": {},
   "outputs": [],
   "source": [
    "# 그런데 여기서 주의해야할 것 하나.\n",
    "# docs는 현재 document-term matrix 로 구성됨\n",
    "# NMF를 적용하기 위해서는 term-document matrix가 필요하다.\n",
    "# 즉, 현재의 Matrix를 transposed matrix(전치행렬)로 바꿔줘야 함.\n",
    "type(docs)"
   ]
  },
  {
   "cell_type": "code",
   "execution_count": null,
   "metadata": {},
   "outputs": [],
   "source": [
    "# compressed sparse row matrix인 docs를 transpose 한다.\n",
    "docs_trans = docs.transpose()\n",
    "type(docs_trans) "
   ]
  },
  {
   "cell_type": "code",
   "execution_count": null,
   "metadata": {},
   "outputs": [],
   "source": [
    "print('Shape of Sparse Matrix: ', docs_trans.shape)\n",
    "print('Amount of Non-Zero occurrences: ', docs_trans.nnz)"
   ]
  },
  {
   "cell_type": "code",
   "execution_count": null,
   "metadata": {},
   "outputs": [],
   "source": [
    "# NMF 모델 객체 생성\n",
    "from sklearn.decomposition import NMF\n",
    "model = NMF(n_components=27)"
   ]
  },
  {
   "cell_type": "code",
   "execution_count": null,
   "metadata": {},
   "outputs": [],
   "source": [
    "# NMF 모델 학습\n",
    "W = model.fit_transform(docs_trans)"
   ]
  },
  {
   "cell_type": "code",
   "execution_count": null,
   "metadata": {},
   "outputs": [],
   "source": [
    "H = model.components_"
   ]
  },
  {
   "cell_type": "code",
   "execution_count": null,
   "metadata": {},
   "outputs": [],
   "source": [
    "type(H)"
   ]
  },
  {
   "cell_type": "code",
   "execution_count": null,
   "metadata": {},
   "outputs": [],
   "source": [
    "H.shape"
   ]
  },
  {
   "cell_type": "code",
   "execution_count": null,
   "metadata": {},
   "outputs": [],
   "source": [
    "print(H[:,5])"
   ]
  },
  {
   "cell_type": "code",
   "execution_count": null,
   "metadata": {},
   "outputs": [],
   "source": [
    "pred_labels = H.argmax(axis=0)"
   ]
  },
  {
   "cell_type": "code",
   "execution_count": null,
   "metadata": {},
   "outputs": [],
   "source": [
    "len(pred_labels)"
   ]
  },
  {
   "cell_type": "code",
   "execution_count": null,
   "metadata": {},
   "outputs": [],
   "source": [
    "pred_labels"
   ]
  },
  {
   "cell_type": "code",
   "execution_count": null,
   "metadata": {},
   "outputs": [],
   "source": [
    "# modified on 2020-11-16\n",
    "data_y = data.drop(['title', 'plot', 'plot_lang'], axis=1).to_numpy()"
   ]
  },
  {
   "cell_type": "code",
   "execution_count": null,
   "metadata": {},
   "outputs": [],
   "source": [
    "H[:,:3]"
   ]
  },
  {
   "cell_type": "code",
   "execution_count": null,
   "metadata": {},
   "outputs": [],
   "source": [
    "data_y"
   ]
  },
  {
   "cell_type": "code",
   "execution_count": null,
   "metadata": {},
   "outputs": [],
   "source": [
    "len(data_y)"
   ]
  },
  {
   "cell_type": "code",
   "execution_count": null,
   "metadata": {},
   "outputs": [],
   "source": [
    "target = list(data_y.argmax(axis=1)) # 정답 !!!\n",
    "category_list = data.drop(['title', 'plot', 'plot_lang'], axis=1).columns\n",
    "target_cate = [category_list[t] for t in target]"
   ]
  },
  {
   "cell_type": "code",
   "execution_count": null,
   "metadata": {},
   "outputs": [],
   "source": [
    "from sklearn.metrics import confusion_matrix\n",
    "pd.DataFrame(confusion_matrix(target, pred_labels))"
   ]
  },
  {
   "cell_type": "code",
   "execution_count": null,
   "metadata": {},
   "outputs": [],
   "source": [
    "cmatrix = confusion_matrix(target, pred_labels)\n",
    "cmatrix = pd.DataFrame(confusion_matrix(target, pred_labels))\n",
    "cmatrix.index = data.drop(['title', 'plot', 'plot_lang'], axis=1).columns\n",
    "cmatrix"
   ]
  },
  {
   "cell_type": "code",
   "execution_count": null,
   "metadata": {},
   "outputs": [],
   "source": [
    "cmatrix.sum(axis=0)"
   ]
  },
  {
   "cell_type": "code",
   "execution_count": null,
   "metadata": {},
   "outputs": [],
   "source": [
    "cmatrix = cmatrix.to_numpy()"
   ]
  },
  {
   "cell_type": "code",
   "execution_count": null,
   "metadata": {},
   "outputs": [],
   "source": [
    "cmatrix[:,:3]"
   ]
  },
  {
   "cell_type": "code",
   "execution_count": null,
   "metadata": {},
   "outputs": [],
   "source": [
    "cmatrix[:,:3].argmax(axis=0)"
   ]
  },
  {
   "cell_type": "code",
   "execution_count": null,
   "metadata": {},
   "outputs": [],
   "source": [
    "cmatrix[:,:10].argmax(axis=0)"
   ]
  },
  {
   "cell_type": "code",
   "execution_count": null,
   "metadata": {},
   "outputs": [],
   "source": [
    "cmatrix.argmax(axis=0)"
   ]
  },
  {
   "cell_type": "code",
   "execution_count": null,
   "metadata": {},
   "outputs": [],
   "source": [
    "set(cmatrix.argmax(axis=0))"
   ]
  },
  {
   "cell_type": "code",
   "execution_count": null,
   "metadata": {},
   "outputs": [],
   "source": [
    "list(cmatrix.argmax(axis=0))"
   ]
  },
  {
   "cell_type": "code",
   "execution_count": null,
   "metadata": {},
   "outputs": [],
   "source": [
    "best_labels = list(cmatrix.argmax(axis=0))"
   ]
  },
  {
   "cell_type": "code",
   "execution_count": null,
   "metadata": {},
   "outputs": [],
   "source": [
    "data.drop(['title', 'plot', 'plot_lang'], axis=1).columns[[0,5,6,7,8,17,19]]"
   ]
  },
  {
   "cell_type": "code",
   "execution_count": null,
   "metadata": {},
   "outputs": [],
   "source": [
    "len(cmatrix.transpose())"
   ]
  },
  {
   "cell_type": "code",
   "execution_count": null,
   "metadata": {
    "scrolled": false
   },
   "outputs": [],
   "source": [
    "i = 0\n",
    "sum_result = 0\n",
    "for c in cmatrix.transpose():\n",
    "    print(c)\n",
    "    print('label:', best_labels[i])\n",
    "    print('value:', c[best_labels[i]])\n",
    "    sum_result += c[best_labels[i]]\n",
    "    i += 1"
   ]
  },
  {
   "cell_type": "code",
   "execution_count": null,
   "metadata": {},
   "outputs": [],
   "source": [
    "print(sum_result)"
   ]
  },
  {
   "cell_type": "code",
   "execution_count": null,
   "metadata": {},
   "outputs": [],
   "source": [
    "sum_result/len(data_y)"
   ]
  },
  {
   "cell_type": "code",
   "execution_count": null,
   "metadata": {},
   "outputs": [],
   "source": [
    "category_list = data.drop(['title', 'plot', 'plot_lang'], axis=1).columns"
   ]
  },
  {
   "cell_type": "code",
   "execution_count": null,
   "metadata": {},
   "outputs": [],
   "source": [
    "category_list = data.drop(['title', 'plot', 'plot_lang'], axis=1).columns\n",
    "[category_list[t] for t in target]"
   ]
  },
  {
   "cell_type": "code",
   "execution_count": null,
   "metadata": {},
   "outputs": [],
   "source": [
    "result = pd.DataFrame(cmatrix)\n",
    "result.index = data.drop(['title', 'plot', 'plot_lang'], axis=1).columns\n",
    "result.columns = [result.index[l] for l in best_labels]\n",
    "result"
   ]
  },
  {
   "cell_type": "code",
   "execution_count": null,
   "metadata": {},
   "outputs": [],
   "source": [
    "result.sum(axis=0)"
   ]
  },
  {
   "cell_type": "code",
   "execution_count": null,
   "metadata": {},
   "outputs": [],
   "source": [
    "type(result.sum(axis=0))"
   ]
  },
  {
   "cell_type": "code",
   "execution_count": null,
   "metadata": {},
   "outputs": [],
   "source": [
    "clusters = {}\n",
    "for i in range(len(best_labels)):\n",
    "    num = result.sum(axis=0)[i]\n",
    "    label = best_labels[i]\n",
    "    cate = result.index[label]\n",
    "    if cate in clusters:\n",
    "        clusters[cate] += num\n",
    "    else:\n",
    "        clusters[cate] = num"
   ]
  },
  {
   "cell_type": "code",
   "execution_count": null,
   "metadata": {},
   "outputs": [],
   "source": [
    "clusters"
   ]
  },
  {
   "cell_type": "code",
   "execution_count": null,
   "metadata": {},
   "outputs": [],
   "source": [
    "list(clusters.values())/sum(list(clusters.values()))*100"
   ]
  },
  {
   "cell_type": "code",
   "execution_count": null,
   "metadata": {},
   "outputs": [],
   "source": []
  }
 ],
 "metadata": {
  "kernelspec": {
   "display_name": "Python 3",
   "language": "python",
   "name": "python3"
  },
  "language_info": {
   "codemirror_mode": {
    "name": "ipython",
    "version": 3
   },
   "file_extension": ".py",
   "mimetype": "text/x-python",
   "name": "python",
   "nbconvert_exporter": "python",
   "pygments_lexer": "ipython3",
   "version": "3.7.5"
  }
 },
 "nbformat": 4,
 "nbformat_minor": 2
}
